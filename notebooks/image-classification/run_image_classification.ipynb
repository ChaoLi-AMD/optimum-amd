{
 "cells": [
  {
   "cell_type": "markdown",
   "metadata": {},
   "source": [
    "# Image Classification on the AMD Ryzen™ AI using Resnet-50"
   ]
  },
  {
   "cell_type": "code",
   "execution_count": null,
   "metadata": {},
   "outputs": [],
   "source": [
    "import requests\n",
    "from PIL import Image"
   ]
  },
  {
   "cell_type": "code",
   "execution_count": null,
   "metadata": {},
   "outputs": [],
   "source": [
    "url = \"https://datasets-server.huggingface.co/assets/beans/--/default/train/0/image/image.jpg\"\n",
    "image = Image.open(requests.get(url, stream=True).raw)\n",
    "image"
   ]
  },
  {
   "cell_type": "markdown",
   "metadata": {},
   "source": [
    "## Export the model to ONNX"
   ]
  },
  {
   "cell_type": "code",
   "execution_count": null,
   "metadata": {},
   "outputs": [],
   "source": [
    "from pathlib import Path\n",
    "from optimum.exporters.onnx import main_export\n",
    "from optimum.amd.ryzenai import RyzenAIModelForImageClassification"
   ]
  },
  {
   "cell_type": "code",
   "execution_count": null,
   "metadata": {},
   "outputs": [],
   "source": [
    "task = \"image-classification\"\n",
    "model_id = \"eugenecamus/resnet-50-base-beans-demo\"\n",
    "\n",
    "onnx_dir = \"demo_resnet_onnx\""
   ]
  },
  {
   "cell_type": "code",
   "execution_count": null,
   "metadata": {},
   "outputs": [],
   "source": [
    "main_export(\n",
    "    model_id,\n",
    "    onnx_dir,\n",
    "    task=task\n",
    ")\n",
    "\n",
    "static_onnx_path = RyzenAIModelForImageClassification.reshape(\n",
    "    Path(onnx_dir) / \"model.onnx\",\n",
    "    input_shape_dict={\"pixel_values\": [1, 3, 224, 224]},\n",
    "    output_shape_dict={\"logits\": [1, 3]},\n",
    ")\n"
   ]
  },
  {
   "cell_type": "markdown",
   "metadata": {},
   "source": [
    "## Quantize the model"
   ]
  },
  {
   "cell_type": "code",
   "execution_count": null,
   "metadata": {},
   "outputs": [],
   "source": [
    "from optimum.amd.ryzenai import RyzenAIOnnxQuantizer\n",
    "\n",
    "quantizer = RyzenAIOnnxQuantizer.from_pretrained(onnx_dir, file_name=static_onnx_path.name)"
   ]
  },
  {
   "cell_type": "code",
   "execution_count": null,
   "metadata": {},
   "outputs": [],
   "source": [
    "from functools import partial\n",
    "from transformers import AutoFeatureExtractor\n",
    "from optimum.amd.ryzenai.configuration import QuantizationConfig\n",
    "\n",
    "# Create the quantization configuration containing all the quantization parameters\n",
    "qconfig = QuantizationConfig()\n",
    "\n",
    "feature_extractor = AutoFeatureExtractor.from_pretrained(model_id)\n",
    "\n",
    "def preprocess_fn(ex, feature_extractor):\n",
    "    return feature_extractor(ex[\"image\"])\n",
    "\n",
    "# Create the calibration dataset used for the calibration step\n",
    "calibration_dataset = quantizer.get_calibration_dataset(\n",
    "    \"beans\",\n",
    "    preprocess_function=partial(preprocess_fn, feature_extractor=feature_extractor),\n",
    "    num_samples=128,\n",
    "    dataset_split=\"test\",\n",
    ")"
   ]
  },
  {
   "cell_type": "code",
   "execution_count": null,
   "metadata": {},
   "outputs": [],
   "source": [
    "output_dir = \"demo_resnet_onnx_quantized\"\n",
    "\n",
    "quantizer.quantize(\n",
    "    save_dir=output_dir,\n",
    "    quantization_config=qconfig,\n",
    "    dataset=calibration_dataset,\n",
    ")"
   ]
  },
  {
   "cell_type": "markdown",
   "metadata": {},
   "source": [
    "## Run inference using the quantized model"
   ]
  },
  {
   "cell_type": "code",
   "execution_count": null,
   "metadata": {},
   "outputs": [],
   "source": [
    "vaip_config = \"vaip_config.json\"\n",
    "model = RyzenAIModelForImageClassification.from_pretrained(output_dir, vaip_config=vaip_config)"
   ]
  },
  {
   "cell_type": "code",
   "execution_count": null,
   "metadata": {},
   "outputs": [],
   "source": [
    "from transformers import pipeline\n",
    "\n",
    "cls_pipe = pipeline(\"image-classification\", model=model, feature_extractor=feature_extractor)\n",
    "cls_pipe(image)"
   ]
  }
 ],
 "metadata": {
  "kernelspec": {
   "display_name": "optimummht",
   "language": "python",
   "name": "python3"
  },
  "language_info": {
   "codemirror_mode": {
    "name": "ipython",
    "version": 3
   },
   "file_extension": ".py",
   "mimetype": "text/x-python",
   "name": "python",
   "nbconvert_exporter": "python",
   "pygments_lexer": "ipython3",
   "version": "3.9.18"
  }
 },
 "nbformat": 4,
 "nbformat_minor": 2
}
